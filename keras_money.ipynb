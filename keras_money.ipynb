{
  "nbformat": 4,
  "nbformat_minor": 0,
  "metadata": {
    "colab": {
      "name": "keras money.ipynb",
      "provenance": []
    },
    "kernelspec": {
      "name": "python3",
      "display_name": "Python 3"
    },
    "language_info": {
      "name": "python"
    }
  },
  "cells": [
    {
      "cell_type": "code",
      "metadata": {
        "id": "HiqQ4LADyKvP"
      },
      "source": [
        "pip install tensorflow==2.5\n"
      ],
      "execution_count": null,
      "outputs": []
    },
    {
      "cell_type": "code",
      "metadata": {
        "id": "6Cl7RpIm4NRz"
      },
      "source": [
        "import tensorflow\n",
        "from tensorflow.keras.models import  Sequential\n",
        "from tensorflow.keras.layers import  Dense\n",
        "import numpy as np\n"
      ],
      "execution_count": null,
      "outputs": []
    },
    {
      "cell_type": "code",
      "metadata": {
        "colab": {
          "base_uri": "https://localhost:8080/"
        },
        "id": "Fuk_OVME601i",
        "outputId": "6424f503-2b4e-489d-b004-531596b51cc0"
      },
      "source": [
        "dataset = np.loadtxt('/content/pima-indians-diabetes.csv',delimiter=',')\n",
        "dataset"
      ],
      "execution_count": null,
      "outputs": [
        {
          "output_type": "execute_result",
          "data": {
            "text/plain": [
              "array([[  6.   , 148.   ,  72.   , ...,   0.627,  50.   ,   1.   ],\n",
              "       [  1.   ,  85.   ,  66.   , ...,   0.351,  31.   ,   0.   ],\n",
              "       [  8.   , 183.   ,  64.   , ...,   0.672,  32.   ,   1.   ],\n",
              "       ...,\n",
              "       [  5.   , 121.   ,  72.   , ...,   0.245,  30.   ,   0.   ],\n",
              "       [  1.   , 126.   ,  60.   , ...,   0.349,  47.   ,   1.   ],\n",
              "       [  1.   ,  93.   ,  70.   , ...,   0.315,  23.   ,   0.   ]])"
            ]
          },
          "metadata": {
            "tags": []
          },
          "execution_count": 5
        }
      ]
    },
    {
      "cell_type": "code",
      "metadata": {
        "colab": {
          "base_uri": "https://localhost:8080/"
        },
        "id": "8scQgj3E7E2R",
        "outputId": "7633532b-3933-43f7-b1e2-34e24d0f1804"
      },
      "source": [
        "train_size = int(len(dataset)/100*60)\n",
        "test_size = int(len(dataset)/100*40)\n",
        "\n",
        "x = dataset[:train_size,:8]\n",
        "y = dataset[:train_size,8]\n",
        "\n",
        "x_test = dataset[:test_size,:8]\n",
        "y_test = dataset[:test_size,8]\n",
        "model = Sequential()\n",
        "model.add(Dense(16,input_dim= 8,activation='relu'))\n",
        "model.add(Dense(8,activation='relu'))\n",
        "model.add(Dense(1,activation='relu'))\n",
        "model.compile(loss='binary_crossentropy',optimizer='adam',metrics=['accuracy'])\n",
        "model.fit(x,y,epochs=100)\n",
        "score = model.evaluate(x_test,y_test)\n"
      ],
      "execution_count": null,
      "outputs": [
        {
          "output_type": "stream",
          "text": [
            "Epoch 1/100\n",
            "15/15 [==============================] - 1s 2ms/step - loss: 9.4479 - accuracy: 0.3804\n",
            "Epoch 2/100\n",
            "15/15 [==============================] - 0s 2ms/step - loss: 9.4479 - accuracy: 0.3804\n",
            "Epoch 3/100\n",
            "15/15 [==============================] - 0s 2ms/step - loss: 9.4479 - accuracy: 0.3804\n",
            "Epoch 4/100\n",
            "15/15 [==============================] - 0s 2ms/step - loss: 9.4479 - accuracy: 0.3804\n",
            "Epoch 5/100\n",
            "15/15 [==============================] - 0s 2ms/step - loss: 9.4479 - accuracy: 0.3804\n",
            "Epoch 6/100\n",
            "15/15 [==============================] - 0s 2ms/step - loss: 9.4479 - accuracy: 0.3804\n",
            "Epoch 7/100\n",
            "15/15 [==============================] - 0s 2ms/step - loss: 9.4479 - accuracy: 0.3804\n",
            "Epoch 8/100\n",
            "15/15 [==============================] - 0s 2ms/step - loss: 9.4479 - accuracy: 0.3804\n",
            "Epoch 9/100\n",
            "15/15 [==============================] - 0s 2ms/step - loss: 9.4479 - accuracy: 0.3804\n",
            "Epoch 10/100\n",
            "15/15 [==============================] - 0s 2ms/step - loss: 9.4479 - accuracy: 0.3804\n",
            "Epoch 11/100\n",
            "15/15 [==============================] - 0s 2ms/step - loss: 9.4479 - accuracy: 0.3804\n",
            "Epoch 12/100\n",
            "15/15 [==============================] - 0s 2ms/step - loss: 9.4479 - accuracy: 0.3804\n",
            "Epoch 13/100\n",
            "15/15 [==============================] - 0s 2ms/step - loss: 9.4479 - accuracy: 0.3804\n",
            "Epoch 14/100\n",
            "15/15 [==============================] - 0s 2ms/step - loss: 9.4479 - accuracy: 0.3804\n",
            "Epoch 15/100\n",
            "15/15 [==============================] - 0s 2ms/step - loss: 9.4479 - accuracy: 0.3804\n",
            "Epoch 16/100\n",
            "15/15 [==============================] - 0s 2ms/step - loss: 9.4479 - accuracy: 0.3804\n",
            "Epoch 17/100\n",
            "15/15 [==============================] - 0s 2ms/step - loss: 9.4479 - accuracy: 0.3804\n",
            "Epoch 18/100\n",
            "15/15 [==============================] - 0s 2ms/step - loss: 9.4479 - accuracy: 0.3804\n",
            "Epoch 19/100\n",
            "15/15 [==============================] - 0s 2ms/step - loss: 9.4479 - accuracy: 0.3804\n",
            "Epoch 20/100\n",
            "15/15 [==============================] - 0s 2ms/step - loss: 9.4479 - accuracy: 0.3804\n",
            "Epoch 21/100\n",
            "15/15 [==============================] - 0s 2ms/step - loss: 9.4479 - accuracy: 0.3804\n",
            "Epoch 22/100\n",
            "15/15 [==============================] - 0s 2ms/step - loss: 9.4479 - accuracy: 0.3804\n",
            "Epoch 23/100\n",
            "15/15 [==============================] - 0s 2ms/step - loss: 9.4479 - accuracy: 0.3804\n",
            "Epoch 24/100\n",
            "15/15 [==============================] - 0s 2ms/step - loss: 9.4479 - accuracy: 0.3804\n",
            "Epoch 25/100\n",
            "15/15 [==============================] - 0s 2ms/step - loss: 9.4479 - accuracy: 0.3804\n",
            "Epoch 26/100\n",
            "15/15 [==============================] - 0s 2ms/step - loss: 9.4479 - accuracy: 0.3804\n",
            "Epoch 27/100\n",
            "15/15 [==============================] - 0s 2ms/step - loss: 9.4479 - accuracy: 0.3804\n",
            "Epoch 28/100\n",
            "15/15 [==============================] - 0s 2ms/step - loss: 9.4479 - accuracy: 0.3804\n",
            "Epoch 29/100\n",
            "15/15 [==============================] - 0s 2ms/step - loss: 9.4479 - accuracy: 0.3804\n",
            "Epoch 30/100\n",
            "15/15 [==============================] - 0s 2ms/step - loss: 9.4479 - accuracy: 0.3804\n",
            "Epoch 31/100\n",
            "15/15 [==============================] - 0s 2ms/step - loss: 9.4479 - accuracy: 0.3804\n",
            "Epoch 32/100\n",
            "15/15 [==============================] - 0s 2ms/step - loss: 9.4479 - accuracy: 0.3804\n",
            "Epoch 33/100\n",
            "15/15 [==============================] - 0s 2ms/step - loss: 9.4479 - accuracy: 0.3804\n",
            "Epoch 34/100\n",
            "15/15 [==============================] - 0s 2ms/step - loss: 9.4479 - accuracy: 0.3804\n",
            "Epoch 35/100\n",
            "15/15 [==============================] - 0s 2ms/step - loss: 9.4479 - accuracy: 0.3804\n",
            "Epoch 36/100\n",
            "15/15 [==============================] - 0s 2ms/step - loss: 9.4479 - accuracy: 0.3804\n",
            "Epoch 37/100\n",
            "15/15 [==============================] - 0s 2ms/step - loss: 9.4479 - accuracy: 0.3804\n",
            "Epoch 38/100\n",
            "15/15 [==============================] - 0s 2ms/step - loss: 9.4479 - accuracy: 0.3804\n",
            "Epoch 39/100\n",
            "15/15 [==============================] - 0s 2ms/step - loss: 9.4479 - accuracy: 0.3804\n",
            "Epoch 40/100\n",
            "15/15 [==============================] - 0s 2ms/step - loss: 9.4479 - accuracy: 0.3804\n",
            "Epoch 41/100\n",
            "15/15 [==============================] - 0s 2ms/step - loss: 9.4479 - accuracy: 0.3804\n",
            "Epoch 42/100\n",
            "15/15 [==============================] - 0s 2ms/step - loss: 9.4479 - accuracy: 0.3804\n",
            "Epoch 43/100\n",
            "15/15 [==============================] - 0s 2ms/step - loss: 9.4479 - accuracy: 0.3804\n",
            "Epoch 44/100\n",
            "15/15 [==============================] - 0s 2ms/step - loss: 9.4479 - accuracy: 0.3804\n",
            "Epoch 45/100\n",
            "15/15 [==============================] - 0s 2ms/step - loss: 9.4479 - accuracy: 0.3804\n",
            "Epoch 46/100\n",
            "15/15 [==============================] - 0s 2ms/step - loss: 9.4479 - accuracy: 0.3804\n",
            "Epoch 47/100\n",
            "15/15 [==============================] - 0s 2ms/step - loss: 9.4479 - accuracy: 0.3804\n",
            "Epoch 48/100\n",
            "15/15 [==============================] - 0s 2ms/step - loss: 9.4479 - accuracy: 0.3804\n",
            "Epoch 49/100\n",
            "15/15 [==============================] - 0s 2ms/step - loss: 9.4479 - accuracy: 0.3804\n",
            "Epoch 50/100\n",
            "15/15 [==============================] - 0s 3ms/step - loss: 9.4479 - accuracy: 0.3804\n",
            "Epoch 51/100\n",
            "15/15 [==============================] - 0s 2ms/step - loss: 9.4479 - accuracy: 0.3804\n",
            "Epoch 52/100\n",
            "15/15 [==============================] - 0s 2ms/step - loss: 9.4479 - accuracy: 0.3804\n",
            "Epoch 53/100\n",
            "15/15 [==============================] - 0s 2ms/step - loss: 9.4479 - accuracy: 0.3804\n",
            "Epoch 54/100\n",
            "15/15 [==============================] - 0s 2ms/step - loss: 9.4479 - accuracy: 0.3804\n",
            "Epoch 55/100\n",
            "15/15 [==============================] - 0s 2ms/step - loss: 9.4479 - accuracy: 0.3804\n",
            "Epoch 56/100\n",
            "15/15 [==============================] - 0s 2ms/step - loss: 9.4479 - accuracy: 0.3804\n",
            "Epoch 57/100\n",
            "15/15 [==============================] - 0s 2ms/step - loss: 9.4479 - accuracy: 0.3804\n",
            "Epoch 58/100\n",
            "15/15 [==============================] - 0s 2ms/step - loss: 9.4479 - accuracy: 0.3804\n",
            "Epoch 59/100\n",
            "15/15 [==============================] - 0s 2ms/step - loss: 9.4479 - accuracy: 0.3804\n",
            "Epoch 60/100\n",
            "15/15 [==============================] - 0s 2ms/step - loss: 9.4479 - accuracy: 0.3804\n",
            "Epoch 61/100\n",
            "15/15 [==============================] - 0s 2ms/step - loss: 9.4479 - accuracy: 0.3804\n",
            "Epoch 62/100\n",
            "15/15 [==============================] - 0s 2ms/step - loss: 9.4479 - accuracy: 0.3804\n",
            "Epoch 63/100\n",
            "15/15 [==============================] - 0s 2ms/step - loss: 9.4479 - accuracy: 0.3804\n",
            "Epoch 64/100\n",
            "15/15 [==============================] - 0s 2ms/step - loss: 9.4479 - accuracy: 0.3804\n",
            "Epoch 65/100\n",
            "15/15 [==============================] - 0s 3ms/step - loss: 9.4479 - accuracy: 0.3804\n",
            "Epoch 66/100\n",
            "15/15 [==============================] - 0s 2ms/step - loss: 9.4479 - accuracy: 0.3804\n",
            "Epoch 67/100\n",
            "15/15 [==============================] - 0s 2ms/step - loss: 9.4479 - accuracy: 0.3804\n",
            "Epoch 68/100\n",
            "15/15 [==============================] - 0s 2ms/step - loss: 9.4479 - accuracy: 0.3804\n",
            "Epoch 69/100\n",
            "15/15 [==============================] - 0s 2ms/step - loss: 9.4479 - accuracy: 0.3804\n",
            "Epoch 70/100\n",
            "15/15 [==============================] - 0s 3ms/step - loss: 9.4479 - accuracy: 0.3804\n",
            "Epoch 71/100\n",
            "15/15 [==============================] - 0s 2ms/step - loss: 9.4479 - accuracy: 0.3804\n",
            "Epoch 72/100\n",
            "15/15 [==============================] - 0s 2ms/step - loss: 9.4479 - accuracy: 0.3804\n",
            "Epoch 73/100\n",
            "15/15 [==============================] - 0s 3ms/step - loss: 9.4479 - accuracy: 0.3804\n",
            "Epoch 74/100\n",
            "15/15 [==============================] - 0s 2ms/step - loss: 9.4479 - accuracy: 0.3804\n",
            "Epoch 75/100\n",
            "15/15 [==============================] - 0s 2ms/step - loss: 9.4479 - accuracy: 0.3804\n",
            "Epoch 76/100\n",
            "15/15 [==============================] - 0s 2ms/step - loss: 9.4479 - accuracy: 0.3804\n",
            "Epoch 77/100\n",
            "15/15 [==============================] - 0s 3ms/step - loss: 9.4479 - accuracy: 0.3804\n",
            "Epoch 78/100\n",
            "15/15 [==============================] - 0s 2ms/step - loss: 9.4479 - accuracy: 0.3804\n",
            "Epoch 79/100\n",
            "15/15 [==============================] - 0s 2ms/step - loss: 9.4479 - accuracy: 0.3804\n",
            "Epoch 80/100\n",
            "15/15 [==============================] - 0s 2ms/step - loss: 9.4479 - accuracy: 0.3804\n",
            "Epoch 81/100\n",
            "15/15 [==============================] - 0s 2ms/step - loss: 9.4479 - accuracy: 0.3804\n",
            "Epoch 82/100\n",
            "15/15 [==============================] - 0s 2ms/step - loss: 9.4479 - accuracy: 0.3804\n",
            "Epoch 83/100\n",
            "15/15 [==============================] - 0s 2ms/step - loss: 9.4479 - accuracy: 0.3804\n",
            "Epoch 84/100\n",
            "15/15 [==============================] - 0s 2ms/step - loss: 9.4479 - accuracy: 0.3804\n",
            "Epoch 85/100\n",
            "15/15 [==============================] - 0s 2ms/step - loss: 9.4479 - accuracy: 0.3804\n",
            "Epoch 86/100\n",
            "15/15 [==============================] - 0s 2ms/step - loss: 9.4479 - accuracy: 0.3804\n",
            "Epoch 87/100\n",
            "15/15 [==============================] - 0s 2ms/step - loss: 9.4479 - accuracy: 0.3804\n",
            "Epoch 88/100\n",
            "15/15 [==============================] - 0s 3ms/step - loss: 9.4479 - accuracy: 0.3804\n",
            "Epoch 89/100\n",
            "15/15 [==============================] - 0s 3ms/step - loss: 9.4479 - accuracy: 0.3804\n",
            "Epoch 90/100\n",
            "15/15 [==============================] - 0s 2ms/step - loss: 9.4479 - accuracy: 0.3804\n",
            "Epoch 91/100\n",
            "15/15 [==============================] - 0s 2ms/step - loss: 9.4479 - accuracy: 0.3804\n",
            "Epoch 92/100\n",
            "15/15 [==============================] - 0s 2ms/step - loss: 9.4479 - accuracy: 0.3804\n",
            "Epoch 93/100\n",
            "15/15 [==============================] - 0s 3ms/step - loss: 9.4479 - accuracy: 0.3804\n",
            "Epoch 94/100\n",
            "15/15 [==============================] - 0s 2ms/step - loss: 9.4479 - accuracy: 0.3804\n",
            "Epoch 95/100\n",
            "15/15 [==============================] - 0s 2ms/step - loss: 9.4479 - accuracy: 0.3804\n",
            "Epoch 96/100\n",
            "15/15 [==============================] - 0s 2ms/step - loss: 9.4479 - accuracy: 0.3804\n",
            "Epoch 97/100\n",
            "15/15 [==============================] - 0s 2ms/step - loss: 9.4479 - accuracy: 0.3804\n",
            "Epoch 98/100\n",
            "15/15 [==============================] - 0s 2ms/step - loss: 9.4479 - accuracy: 0.3804\n",
            "Epoch 99/100\n",
            "15/15 [==============================] - 0s 2ms/step - loss: 9.4479 - accuracy: 0.3804\n",
            "Epoch 100/100\n",
            "15/15 [==============================] - 0s 2ms/step - loss: 9.4479 - accuracy: 0.3804\n",
            "10/10 [==============================] - 0s 2ms/step - loss: 9.3880 - accuracy: 0.3844\n"
          ],
          "name": "stdout"
        }
      ]
    },
    {
      "cell_type": "code",
      "metadata": {
        "id": "s66HessP_Jau",
        "colab": {
          "base_uri": "https://localhost:8080/",
          "height": 239
        },
        "outputId": "e380f302-47d9-4089-a2af-9785b8f6dac0"
      },
      "source": [
        "import tensorflow\n",
        "from tensorflow.keras.models import Sequential\n",
        "from tensorflow.keras.layers import Dense\n",
        "import numpy\n",
        "\n",
        "dataset = numpy.loadtxt(\"pima-indians-diabetes.csv\", delimiter=\",\")\n",
        "\n",
        "train_size= int(len(dataset)/100*70)\n",
        "test_size= int(len(dataset)/100*30)\n",
        "\n",
        "X = dataset[:train_size,:8]\n",
        "Y = dataset[:train_size, 8]\n",
        "\n",
        "X_test = dataset[test_size:,:8]\n",
        "Y_test = dataset[test_size:, 8]\n",
        "\n",
        "model = Sequential()\n",
        "model.add(Dense(16, input_dim=8, activation=\"sigmoid\"))\n",
        "model.add(Dense(8, activation=\"relu\"))\n",
        "model.add(Dense(1, activation=\"tanh\"))\n",
        "model.compile(loss='binary_crossentropy',  optimizer='adam', metrics=['accuracy'])\n",
        "\n",
        "model.fit(X, Y, epochs=2000)\n",
        "scores = model.evaluate(X_test,Y_test)\n",
        "print (\"Accuracy = \", scores[1] * 100)\n",
        "model.save('diabetes_trained_model.h5')\n"
      ],
      "execution_count": null,
      "outputs": [
        {
          "output_type": "error",
          "ename": "IndexError",
          "evalue": "ignored",
          "traceback": [
            "\u001b[0;31m---------------------------------------------------------------------------\u001b[0m",
            "\u001b[0;31mIndexError\u001b[0m                                Traceback (most recent call last)",
            "\u001b[0;32m<ipython-input-20-26f0e05ce457>\u001b[0m in \u001b[0;36m<module>\u001b[0;34m()\u001b[0m\n\u001b[1;32m     13\u001b[0m \u001b[0;34m\u001b[0m\u001b[0m\n\u001b[1;32m     14\u001b[0m \u001b[0mX_test\u001b[0m \u001b[0;34m=\u001b[0m \u001b[0mdataset\u001b[0m\u001b[0;34m[\u001b[0m\u001b[0mtest_size\u001b[0m\u001b[0;34m:\u001b[0m\u001b[0;34m,\u001b[0m\u001b[0;34m:\u001b[0m\u001b[0;36m13\u001b[0m\u001b[0;34m]\u001b[0m\u001b[0;34m\u001b[0m\u001b[0;34m\u001b[0m\u001b[0m\n\u001b[0;32m---> 15\u001b[0;31m \u001b[0mY_test\u001b[0m \u001b[0;34m=\u001b[0m \u001b[0mdataset\u001b[0m\u001b[0;34m[\u001b[0m\u001b[0mtest_size\u001b[0m\u001b[0;34m:\u001b[0m\u001b[0;34m,\u001b[0m \u001b[0;36m13\u001b[0m\u001b[0;34m]\u001b[0m\u001b[0;34m\u001b[0m\u001b[0;34m\u001b[0m\u001b[0m\n\u001b[0m\u001b[1;32m     16\u001b[0m \u001b[0;34m\u001b[0m\u001b[0m\n\u001b[1;32m     17\u001b[0m \u001b[0mmodel\u001b[0m \u001b[0;34m=\u001b[0m \u001b[0mSequential\u001b[0m\u001b[0;34m(\u001b[0m\u001b[0;34m)\u001b[0m\u001b[0;34m\u001b[0m\u001b[0;34m\u001b[0m\u001b[0m\n",
            "\u001b[0;31mIndexError\u001b[0m: index 13 is out of bounds for axis 1 with size 9"
          ]
        }
      ]
    },
    {
      "cell_type": "code",
      "metadata": {
        "id": "49saSoekAcCL"
      },
      "source": [
        "from tensorflow.keras.models import load_model\n",
        "import numpy as np\n"
      ],
      "execution_count": null,
      "outputs": []
    },
    {
      "cell_type": "code",
      "metadata": {
        "colab": {
          "base_uri": "https://localhost:8080/"
        },
        "id": "847516veKPic",
        "outputId": "8d150345-5c78-4d33-bbc1-07e9cbbef7ba"
      },
      "source": [
        "loadmodel = load_model('/content/diabetes_trained_model.h5')\n",
        "inp = np.array([[8,125,96,0,0,0,0.32,54]])\n",
        "predic = loadmodel.predict(x=inp)\n",
        "predic"
      ],
      "execution_count": null,
      "outputs": [
        {
          "output_type": "stream",
          "text": [
            "WARNING:tensorflow:5 out of the last 5 calls to <function Model.make_predict_function.<locals>.predict_function at 0x7f2c83afa830> triggered tf.function retracing. Tracing is expensive and the excessive number of tracings could be due to (1) creating @tf.function repeatedly in a loop, (2) passing tensors with different shapes, (3) passing Python objects instead of tensors. For (1), please define your @tf.function outside of the loop. For (2), @tf.function has experimental_relax_shapes=True option that relaxes argument shapes that can avoid unnecessary retracing. For (3), please refer to https://www.tensorflow.org/guide/function#controlling_retracing and https://www.tensorflow.org/api_docs/python/tf/function for  more details.\n"
          ],
          "name": "stdout"
        },
        {
          "output_type": "execute_result",
          "data": {
            "text/plain": [
              "array([[0.8220902]], dtype=float32)"
            ]
          },
          "metadata": {
            "tags": []
          },
          "execution_count": 14
        }
      ]
    },
    {
      "cell_type": "code",
      "metadata": {
        "id": "zCgzG2NgKYtp"
      },
      "source": [
        "import tensorflow\n",
        "from tensorflow.keras.models import Sequential\n",
        "from tensorflow.keras.layers import Dense\n",
        "import numpy\n",
        "\n",
        "dataset = numpy.loadtxt(\"/content/heart.csv\", delimiter=\",\")\n",
        "\n",
        "train_size= int(len(dataset)/100*70)\n",
        "test_size= int(len(dataset)/100*30)\n",
        "\n",
        "X = dataset[:train_size,:13]\n",
        "Y = dataset[:train_size, 13]\n",
        "\n",
        "X_test = dataset[test_size:,:13]\n",
        "Y_test = dataset[test_size:, 13]\n",
        "\n",
        "model = Sequential()\n",
        "model.add(Dense(16, input_dim=13, activation=\"sigmoid\"))\n",
        "model.add(Dense(8, activation=\"relu\"))\n",
        "model.add(Dense(1, activation=\"tanh\"))\n",
        "\n",
        "model.compile(loss='binary_crossentropy',  optimizer='adam', metrics=['accuracy'])\n",
        "\n",
        "model.fit(X, Y, epochs=2000)\n",
        "scores = model.evaluate(X_test,Y_test)\n",
        "print (\"Accuracy = \", scores[1] * 100)\n",
        "model.save('diabetes_trained_model.h5')"
      ],
      "execution_count": null,
      "outputs": []
    },
    {
      "cell_type": "code",
      "metadata": {
        "id": "sAX_1DBx166-"
      },
      "source": [
        "import tensorflow\n",
        "from tensorflow.keras.models import Sequential\n",
        "from tensorflow.keras.layers import Dense,LSTM\n",
        "from sklearn.preprocessing import MinMaxScaler"
      ],
      "execution_count": null,
      "outputs": []
    },
    {
      "cell_type": "code",
      "metadata": {
        "id": "j8FWRWv222fP"
      },
      "source": [
        "\n",
        "dataset = numpy.loadtxt('/content/thb.csv',delimiter=',')\n",
        "sc = MinMaxScaler(feature_range=(0,1))\n",
        "datascale = sc.fit_transform(dataset.reshape(-1,1))\n",
        "\n"
      ],
      "execution_count": null,
      "outputs": []
    },
    {
      "cell_type": "code",
      "metadata": {
        "colab": {
          "base_uri": "https://localhost:8080/",
          "height": 476
        },
        "id": "KXX2A78z43bh",
        "outputId": "bd286849-fa9b-4a04-aefb-87360833ba12"
      },
      "source": [
        "x_train = []\n",
        "y_train =[]\n",
        "for i in range(10,len(datascale)):\n",
        "  x_train.append(datascale[i-10:i])\n",
        "  y_train.append(datascale[i])\n",
        "x_train = numpy.array(x_train)\n",
        "y_train = numpy.array(y_train)\n",
        "x_train = numpy.reshape(x_train,(x_train.shape[0],x_train[1],1))"
      ],
      "execution_count": null,
      "outputs": [
        {
          "output_type": "error",
          "ename": "TypeError",
          "evalue": "ignored",
          "traceback": [
            "\u001b[0;31m---------------------------------------------------------------------------\u001b[0m",
            "\u001b[0;31mTypeError\u001b[0m                                 Traceback (most recent call last)",
            "\u001b[0;32m/usr/local/lib/python3.7/dist-packages/numpy/core/fromnumeric.py\u001b[0m in \u001b[0;36m_wrapfunc\u001b[0;34m(obj, method, *args, **kwds)\u001b[0m\n\u001b[1;32m     57\u001b[0m     \u001b[0;32mtry\u001b[0m\u001b[0;34m:\u001b[0m\u001b[0;34m\u001b[0m\u001b[0;34m\u001b[0m\u001b[0m\n\u001b[0;32m---> 58\u001b[0;31m         \u001b[0;32mreturn\u001b[0m \u001b[0mbound\u001b[0m\u001b[0;34m(\u001b[0m\u001b[0;34m*\u001b[0m\u001b[0margs\u001b[0m\u001b[0;34m,\u001b[0m \u001b[0;34m**\u001b[0m\u001b[0mkwds\u001b[0m\u001b[0;34m)\u001b[0m\u001b[0;34m\u001b[0m\u001b[0;34m\u001b[0m\u001b[0m\n\u001b[0m\u001b[1;32m     59\u001b[0m     \u001b[0;32mexcept\u001b[0m \u001b[0mTypeError\u001b[0m\u001b[0;34m:\u001b[0m\u001b[0;34m\u001b[0m\u001b[0;34m\u001b[0m\u001b[0m\n",
            "\u001b[0;31mTypeError\u001b[0m: only integer scalar arrays can be converted to a scalar index",
            "\nDuring handling of the above exception, another exception occurred:\n",
            "\u001b[0;31mTypeError\u001b[0m                                 Traceback (most recent call last)",
            "\u001b[0;32m<ipython-input-23-b1f4f987d6d2>\u001b[0m in \u001b[0;36m<module>\u001b[0;34m()\u001b[0m\n\u001b[1;32m      6\u001b[0m \u001b[0mx_train\u001b[0m \u001b[0;34m=\u001b[0m \u001b[0mnumpy\u001b[0m\u001b[0;34m.\u001b[0m\u001b[0marray\u001b[0m\u001b[0;34m(\u001b[0m\u001b[0mx_train\u001b[0m\u001b[0;34m)\u001b[0m\u001b[0;34m\u001b[0m\u001b[0;34m\u001b[0m\u001b[0m\n\u001b[1;32m      7\u001b[0m \u001b[0my_train\u001b[0m \u001b[0;34m=\u001b[0m \u001b[0mnumpy\u001b[0m\u001b[0;34m.\u001b[0m\u001b[0marray\u001b[0m\u001b[0;34m(\u001b[0m\u001b[0my_train\u001b[0m\u001b[0;34m)\u001b[0m\u001b[0;34m\u001b[0m\u001b[0;34m\u001b[0m\u001b[0m\n\u001b[0;32m----> 8\u001b[0;31m \u001b[0mx_train\u001b[0m \u001b[0;34m=\u001b[0m \u001b[0mnumpy\u001b[0m\u001b[0;34m.\u001b[0m\u001b[0mreshape\u001b[0m\u001b[0;34m(\u001b[0m\u001b[0mx_train\u001b[0m\u001b[0;34m,\u001b[0m\u001b[0;34m(\u001b[0m\u001b[0mx_train\u001b[0m\u001b[0;34m.\u001b[0m\u001b[0mshape\u001b[0m\u001b[0;34m[\u001b[0m\u001b[0;36m0\u001b[0m\u001b[0;34m]\u001b[0m\u001b[0;34m,\u001b[0m\u001b[0mx_train\u001b[0m\u001b[0;34m[\u001b[0m\u001b[0;36m1\u001b[0m\u001b[0;34m]\u001b[0m\u001b[0;34m,\u001b[0m\u001b[0;36m1\u001b[0m\u001b[0;34m)\u001b[0m\u001b[0;34m)\u001b[0m\u001b[0;34m\u001b[0m\u001b[0;34m\u001b[0m\u001b[0m\n\u001b[0m",
            "\u001b[0;32m<__array_function__ internals>\u001b[0m in \u001b[0;36mreshape\u001b[0;34m(*args, **kwargs)\u001b[0m\n",
            "\u001b[0;32m/usr/local/lib/python3.7/dist-packages/numpy/core/fromnumeric.py\u001b[0m in \u001b[0;36mreshape\u001b[0;34m(a, newshape, order)\u001b[0m\n\u001b[1;32m    297\u001b[0m            [5, 6]])\n\u001b[1;32m    298\u001b[0m     \"\"\"\n\u001b[0;32m--> 299\u001b[0;31m     \u001b[0;32mreturn\u001b[0m \u001b[0m_wrapfunc\u001b[0m\u001b[0;34m(\u001b[0m\u001b[0ma\u001b[0m\u001b[0;34m,\u001b[0m \u001b[0;34m'reshape'\u001b[0m\u001b[0;34m,\u001b[0m \u001b[0mnewshape\u001b[0m\u001b[0;34m,\u001b[0m \u001b[0morder\u001b[0m\u001b[0;34m=\u001b[0m\u001b[0morder\u001b[0m\u001b[0;34m)\u001b[0m\u001b[0;34m\u001b[0m\u001b[0;34m\u001b[0m\u001b[0m\n\u001b[0m\u001b[1;32m    300\u001b[0m \u001b[0;34m\u001b[0m\u001b[0m\n\u001b[1;32m    301\u001b[0m \u001b[0;34m\u001b[0m\u001b[0m\n",
            "\u001b[0;32m/usr/local/lib/python3.7/dist-packages/numpy/core/fromnumeric.py\u001b[0m in \u001b[0;36m_wrapfunc\u001b[0;34m(obj, method, *args, **kwds)\u001b[0m\n\u001b[1;32m     65\u001b[0m         \u001b[0;31m# Call _wrapit from within the except clause to ensure a potential\u001b[0m\u001b[0;34m\u001b[0m\u001b[0;34m\u001b[0m\u001b[0;34m\u001b[0m\u001b[0m\n\u001b[1;32m     66\u001b[0m         \u001b[0;31m# exception has a traceback chain.\u001b[0m\u001b[0;34m\u001b[0m\u001b[0;34m\u001b[0m\u001b[0;34m\u001b[0m\u001b[0m\n\u001b[0;32m---> 67\u001b[0;31m         \u001b[0;32mreturn\u001b[0m \u001b[0m_wrapit\u001b[0m\u001b[0;34m(\u001b[0m\u001b[0mobj\u001b[0m\u001b[0;34m,\u001b[0m \u001b[0mmethod\u001b[0m\u001b[0;34m,\u001b[0m \u001b[0;34m*\u001b[0m\u001b[0margs\u001b[0m\u001b[0;34m,\u001b[0m \u001b[0;34m**\u001b[0m\u001b[0mkwds\u001b[0m\u001b[0;34m)\u001b[0m\u001b[0;34m\u001b[0m\u001b[0;34m\u001b[0m\u001b[0m\n\u001b[0m\u001b[1;32m     68\u001b[0m \u001b[0;34m\u001b[0m\u001b[0m\n\u001b[1;32m     69\u001b[0m \u001b[0;34m\u001b[0m\u001b[0m\n",
            "\u001b[0;32m/usr/local/lib/python3.7/dist-packages/numpy/core/fromnumeric.py\u001b[0m in \u001b[0;36m_wrapit\u001b[0;34m(obj, method, *args, **kwds)\u001b[0m\n\u001b[1;32m     42\u001b[0m     \u001b[0;32mexcept\u001b[0m \u001b[0mAttributeError\u001b[0m\u001b[0;34m:\u001b[0m\u001b[0;34m\u001b[0m\u001b[0;34m\u001b[0m\u001b[0m\n\u001b[1;32m     43\u001b[0m         \u001b[0mwrap\u001b[0m \u001b[0;34m=\u001b[0m \u001b[0;32mNone\u001b[0m\u001b[0;34m\u001b[0m\u001b[0;34m\u001b[0m\u001b[0m\n\u001b[0;32m---> 44\u001b[0;31m     \u001b[0mresult\u001b[0m \u001b[0;34m=\u001b[0m \u001b[0mgetattr\u001b[0m\u001b[0;34m(\u001b[0m\u001b[0masarray\u001b[0m\u001b[0;34m(\u001b[0m\u001b[0mobj\u001b[0m\u001b[0;34m)\u001b[0m\u001b[0;34m,\u001b[0m \u001b[0mmethod\u001b[0m\u001b[0;34m)\u001b[0m\u001b[0;34m(\u001b[0m\u001b[0;34m*\u001b[0m\u001b[0margs\u001b[0m\u001b[0;34m,\u001b[0m \u001b[0;34m**\u001b[0m\u001b[0mkwds\u001b[0m\u001b[0;34m)\u001b[0m\u001b[0;34m\u001b[0m\u001b[0;34m\u001b[0m\u001b[0m\n\u001b[0m\u001b[1;32m     45\u001b[0m     \u001b[0;32mif\u001b[0m \u001b[0mwrap\u001b[0m\u001b[0;34m:\u001b[0m\u001b[0;34m\u001b[0m\u001b[0;34m\u001b[0m\u001b[0m\n\u001b[1;32m     46\u001b[0m         \u001b[0;32mif\u001b[0m \u001b[0;32mnot\u001b[0m \u001b[0misinstance\u001b[0m\u001b[0;34m(\u001b[0m\u001b[0mresult\u001b[0m\u001b[0;34m,\u001b[0m \u001b[0mmu\u001b[0m\u001b[0;34m.\u001b[0m\u001b[0mndarray\u001b[0m\u001b[0;34m)\u001b[0m\u001b[0;34m:\u001b[0m\u001b[0;34m\u001b[0m\u001b[0;34m\u001b[0m\u001b[0m\n",
            "\u001b[0;31mTypeError\u001b[0m: only integer scalar arrays can be converted to a scalar index"
          ]
        }
      ]
    },
    {
      "cell_type": "code",
      "metadata": {
        "id": "fQhdcdg36a7d"
      },
      "source": [
        "import tensorflow\n",
        "from tensorflow.keras.models import Sequential\n",
        "from tensorflow.keras.layers import Dense, Dropout\n",
        "from tensorflow.keras.layers import LSTM\n",
        "\n",
        "import numpy\n",
        "import matplotlib.pyplot as plt\n",
        "\n",
        "from sklearn.preprocessing import MinMaxScaler\n",
        "\n",
        "dataset = numpy.loadtxt(\"thb.csv\",delimiter=\",\")\n",
        "\n",
        "sc = MinMaxScaler(feature_range = (0, 1))\n",
        "dataset_scaled = sc.fit_transform(dataset.reshape(-1, 1))\n",
        "\n",
        "X_train = []\n",
        "Y_train = []\n",
        "\n",
        "for i in range(12, len(dataset_scaled)):\n",
        "    X_train.append(dataset_scaled[i-10:i])\n",
        "    Y_train.append(dataset_scaled[i])\n",
        "    \n",
        "X_train = numpy.array(X_train)\n",
        "Y_train = numpy.array(Y_train)\n",
        "X_train = numpy.reshape(X_train, (X_train.shape[0], X_train.shape[1],1))\n",
        "model = Sequential()\n",
        "model.add(LSTM(units=80, return_sequences=True, input_shape = (X_train.shape[1],1)))\n",
        "model.add(LSTM(units=70, return_sequences=True))\n",
        "model.add(LSTM(units=60, return_sequences=True))\n",
        "model.add(LSTM(units=50, return_sequences=True))\n",
        "model.add(LSTM(units=40, return_sequences=True))\n",
        "model.add(LSTM(units=30, return_sequences=True))\n",
        "model.add(LSTM(units=20))\n",
        "model.add(Dense(units=1))\n",
        "model.compile(optimizer=\"adam\",loss=\"mean_squared_error\")\n",
        "model.fit(X_train, Y_train, epochs=700)\n",
        "model.save(\"lstm_thb.h5\")\n"
      ],
      "execution_count": null,
      "outputs": []
    },
    {
      "cell_type": "code",
      "metadata": {
        "colab": {
          "base_uri": "https://localhost:8080/",
          "height": 404
        },
        "id": "up75Ze6DBuK5",
        "outputId": "503b2fc0-a44d-4017-b31d-d454f441660e"
      },
      "source": [
        "test_dataset = numpy.loadtxt(\"thb_test.csv\", delimiter=\",\")\n",
        "test_dataset_scaled = sc.fit_transform(test_dataset.reshape(-1,1))\n",
        "\n",
        "X_test = []\n",
        "Y_test = []\n",
        "\n",
        "for i in range(10, len(test_dataset_scaled)):\n",
        "    X_test.append(test_dataset_scaled[i-10:i])\n",
        "    Y_test.append(test_dataset[i])\n",
        "X_test = numpy.array(X_test)\n",
        "X_test = numpy.reshape(X_test, (X_test.shape[0], X_test.shape[1],1))\n",
        "\n",
        "predictions = model.predict(X_test)\n",
        "predictions = sc.inverse_transform(predictions)\n",
        "\n",
        "plt.figure(figsize=(10,6))\n",
        "plt.plot(Y_test, color=\"blue\", label=\"Actual THB/USD\")\n",
        "plt.plot(predictions, color=\"red\", label=\"Predicted THB/USD\")\n",
        "plt.title(\"THB-USD\")\n",
        "plt.xlabel(\"Date\")\n",
        "plt.ylabel(\"Value\")\n",
        "plt.legend()\n",
        "plt.show()\n"
      ],
      "execution_count": null,
      "outputs": [
        {
          "output_type": "display_data",
          "data": {
            "image/png": "[encoded data removed]",
            "text/plain": [
              "<Figure size 720x432 with 1 Axes>"
            ]
          },
          "metadata": {
            "tags": [],
            "needs_background": "light"
          }
        }
      ]
    }
  ]
}